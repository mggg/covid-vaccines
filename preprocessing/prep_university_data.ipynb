{
 "cells": [
  {
   "cell_type": "code",
   "execution_count": 181,
   "metadata": {},
   "outputs": [],
   "source": [
    "import geopandas as gpd\n",
    "import pandas as pd\n",
    "from shapely.geometry import Point"
   ]
  },
  {
   "cell_type": "code",
   "execution_count": 182,
   "metadata": {},
   "outputs": [
    {
     "name": "stdout",
     "output_type": "stream",
     "text": [
      "38\n"
     ]
    }
   ],
   "source": [
    "aicum = pd.read_excel(\"data/AICUM Vaccination survey 1.19.2021.xlsx\")\n",
    "columns = {\n",
    "    \"Institution\":\"institution\",\n",
    "    \"Survey completed by:\":\"point_of_contact\",\n",
    "    \"Enrolled in MCVP\":\"MCVP\",\n",
    "    \"Submitted Application for MCVP\":\"submitted_mcvp_app\",\n",
    "    \"Date of submission\":\"date_of_submission\",\n",
    "    \"Partnering with hospital/healthcare provider\":\"partnering\",\n",
    "    \"Named local hospital or healthcare provider\":\"partner_name\",\n",
    "    \"Interested in serving as vaccination site/providing staffing and operational support\":\"vaccination_site_support\",\n",
    "    \"Interested in serving as a vaccination site without providing staffing and operational support\":\"vaccination_site_no_support\",\n",
    "    \"All eligible employees vaccinated\":\"employees_vaccinated\",\n",
    "    \"on campus or external entity\":\"on_campus_or_external\"\n",
    "}\n",
    "aicum = aicum.rename(columns=columns)\n",
    "\n",
    "def add_college(x):\n",
    "    exceptions = [\"College\", \"University\", \"Institute\", \"Conservatory\"]\n",
    "    universities = [\"Bay Path\", \"Bentley\", \"Brandeis\", \"Northeastern\", \"Suffolk\", \"Tufts\"]\n",
    "    \n",
    "    misc_remaps = {\n",
    "        'Anne Maria': 'Anna Maria College',  # typo in AICUM survey\n",
    "        'Holy Cross': 'College of the Holy Cross',\n",
    "        'MGH Institute': 'MGH Institute of Health Professions',\n",
    "        'Montserrat': 'Montserrat College of Art',\n",
    "        'Olin': 'Franklin W. Olin College of Engineering',\n",
    "        'Urban': 'Urban College of Boston',\n",
    "        'WPI': 'Worcester Polytechnic Institute',\n",
    "        'Wentworth': 'Wentworth Institute of Technology',\n",
    "        'NE Conservatory': \"The New England Conservatory of Music\"\n",
    "    }\n",
    "    \n",
    "    if x in misc_remaps.keys():\n",
    "        return misc_remaps[x]\n",
    "    elif any(university in x for university in universities):\n",
    "        return x + \" University\"\n",
    "    elif any(exception in x for exception in exceptions):\n",
    "        return x\n",
    "    else:\n",
    "        return x + \" College\"\n",
    "aicum['institution'] = aicum['institution'].apply(add_college)\n",
    "aicum_insts = set(aicum['institution'])\n",
    "print(len(aicum_insts))"
   ]
  },
  {
   "cell_type": "code",
   "execution_count": 183,
   "metadata": {},
   "outputs": [],
   "source": [
    "orig_colleges = gpd.read_file(\"data/MA_Universities/SHP_dormcap/ma_universities.shp\")\n",
    "# Remove some gratuitous listings, as in the spring 2020 analysis.\n",
    "orig_colleges = orig_colleges[orig_colleges[\"COLLEGE\"] != \"University of Massachusetts Dartmouth Center for Innovation and Entrepreneurship\"]\n",
    "orig_colleges = orig_colleges[~((orig_colleges[\"COLLEGE\"] == \"Northeastern University\") & (orig_colleges[\"CAMPUS\"] != 'Main Campus'))]\n",
    "orig_colleges = orig_colleges[~((orig_colleges[\"COLLEGE\"] == \"Boston College\") & (orig_colleges[\"CAMPUS\"] != 'Main Campus'))]"
   ]
  },
  {
   "cell_type": "code",
   "execution_count": 184,
   "metadata": {},
   "outputs": [],
   "source": [
    "missing = gpd.read_file(\"data/MA_Universities/missing_AICUM/missing_AICUM.csv\")\n",
    "\n",
    "columns = {\n",
    "    \"Institution Name\":\"COLLEGE\",\n",
    "    \"Street address or post office box (HD2019)\":\"ADDRESS\",\n",
    "    \"City location of institution (HD2019)\":\"CITY\",\n",
    "    \"ZIP code (HD2019)\":\"ZIPCODE\",\n",
    "    \"Institution's internet website address (HD2019)\":\"URL\",\n",
    "    \"12-month unduplicated headcount  total: 2018-19 (DRVEF122019)\":\"ENROLL\",\n",
    "    \"Latitude location of institution (HD2019)\":\"LAT\",\n",
    "    \"Longitude location of institution (HD2019)\":\"LON\",\n",
    "}\n",
    "\n",
    "missing = missing.rename(columns=columns)\n",
    "missing[\"geometry\"] = [Point(float(x),float(y)) for x, y in zip(missing[\"LON\"], missing[\"LAT\"])]"
   ]
  },
  {
   "cell_type": "code",
   "execution_count": 185,
   "metadata": {},
   "outputs": [],
   "source": [
    "colleges = orig_colleges.append(missing)"
   ]
  },
  {
   "cell_type": "code",
   "execution_count": 186,
   "metadata": {},
   "outputs": [
    {
     "name": "stdout",
     "output_type": "stream",
     "text": [
      "0 unmatched AICUM institutions\n"
     ]
    }
   ],
   "source": [
    "colleges = colleges.merge(aicum, left_on='COLLEGE', right_on='institution', how='inner')\n",
    "matched_insts = set(colleges['COLLEGE'])\n",
    "print(len(aicum_insts.difference(matched_insts)), \"unmatched AICUM institutions\")"
   ]
  },
  {
   "cell_type": "code",
   "execution_count": 187,
   "metadata": {},
   "outputs": [],
   "source": [
    "filtered_colleges = colleges[\n",
    "  ['COLLEGE', 'CAMPUS', 'ADDRESS', 'CITY', 'ZIPCODE', 'ENROLL',\n",
    "   'URL', 'MCVP', 'submitted_mcvp_app', 'partner_name',\n",
    "   'vaccination_site_support', 'vaccination_site_no_support',\n",
    "   'employees_vaccinated', 'on_campus_or_external', 'geometry']\n",
    "]"
   ]
  },
  {
   "cell_type": "code",
   "execution_count": 188,
   "metadata": {},
   "outputs": [],
   "source": [
    "filtered_colleges = filtered_colleges.to_crs('epsg:4326')"
   ]
  },
  {
   "cell_type": "code",
   "execution_count": 189,
   "metadata": {},
   "outputs": [
    {
     "data": {
      "text/plain": [
       "CAMPUS                                                                 None\n",
       "ADDRESS                                                    415 South Street\n",
       "CITY                                                                Waltham\n",
       "ZIPCODE                                                               02454\n",
       "ENROLL                                                                 5800\n",
       "URL                                                 http://www.brandeis.edu\n",
       "MCVP                                                                     No\n",
       "submitted_mcvp_app                                                       No\n",
       "partner_name                                                            NaN\n",
       "vaccination_site_support                                                 No\n",
       "vaccination_site_no_support                                             Yes\n",
       "employees_vaccinated                                                    Yes\n",
       "on_campus_or_external                                       External Entity\n",
       "geometry                       POINT (-71.26006539934579 42.36576438674317)\n",
       "Name: Brandeis University, dtype: object"
      ]
     },
     "execution_count": 189,
     "metadata": {},
     "output_type": "execute_result"
    }
   ],
   "source": [
    "filtered_colleges.set_index('COLLEGE').loc['Suffolk University']"
   ]
  },
  {
   "cell_type": "code",
   "execution_count": 180,
   "metadata": {},
   "outputs": [],
   "source": [
    "filtered_colleges.to_file('../geojson/ma_universities_with_aicum.geojson', driver='GeoJSON')"
   ]
  }
 ],
 "metadata": {
  "kernelspec": {
   "display_name": "Python 3",
   "language": "python",
   "name": "python3"
  },
  "language_info": {
   "codemirror_mode": {
    "name": "ipython",
    "version": 3
   },
   "file_extension": ".py",
   "mimetype": "text/x-python",
   "name": "python",
   "nbconvert_exporter": "python",
   "pygments_lexer": "ipython3",
   "version": "3.8.5"
  }
 },
 "nbformat": 4,
 "nbformat_minor": 4
}
