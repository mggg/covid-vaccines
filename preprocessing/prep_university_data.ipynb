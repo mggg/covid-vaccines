{
 "cells": [
  {
   "cell_type": "code",
   "execution_count": 122,
   "metadata": {},
   "outputs": [],
   "source": [
    "import geopandas as gpd\n",
    "import pandas as pd\n",
    "from shapely.geometry import Point"
   ]
  },
  {
   "cell_type": "code",
   "execution_count": 160,
   "metadata": {},
   "outputs": [
    {
     "name": "stdout",
     "output_type": "stream",
     "text": [
      "38\n"
     ]
    }
   ],
   "source": [
    "aicum = pd.read_excel(\"data/AICUM Vaccination survey 1.19.2021.xlsx\")\n",
    "columns = {\n",
    "    \"Institution\":\"institution\",\n",
    "    \"Survey completed by:\":\"point_of_contact\",\n",
    "    \"Enrolled in MCVP\":\"MCVP\",\n",
    "    \"Submitted Application for MCVP\":\"submitted_mcvp_app\",\n",
    "    \"Date of submission\":\"date_of_submission\",\n",
    "    \"Partnering with hospital/healthcare provider\":\"partnering\",\n",
    "    \"Named local hospital or healthcare provider\":\"partner_name\",\n",
    "    \"Interested in serving as vaccination site/providing staffing and operational support\":\"vaccination_site_support\",\n",
    "    \"Interested in serving as a vaccination site without providing staffing and operational support\":\"vaccination_site_no_support\",\n",
    "    \"All eligible employees vaccinated\":\"employees_vaccinated\",\n",
    "    \"on campus or external entity\":\"on_campus_or_external\"\n",
    "}\n",
    "aicum = aicum.rename(columns=columns)\n",
    "\n",
    "def add_college(x):\n",
    "    exceptions = [\"College\", \"University\", \"Institute\", \"Conservatory\"]\n",
    "    universities = [\"Bay Path\", \"Bentley\", \"Brandeis\", \"Northeastern\", \"Suffolk\", \"Tufts\"]\n",
    "    \n",
    "    misc_remaps = {\n",
    "        'Anne Maria': 'Anna Maria College',  # typo in AICUM survey\n",
    "        'Holy Cross': 'College of the Holy Cross',\n",
    "        'MGH Institute': 'MGH Institute of Health Professions',\n",
    "        'Montserrat': 'Montserrat College of Art',\n",
    "        'Olin': 'Franklin W. Olin College of Engineering',\n",
    "        'Urban': 'Urban College of Boston',\n",
    "        'WPI': 'Worcester Polytechnic Institute',\n",
    "        'Wentworth': 'Wentworth Institute of Technology',\n",
    "        'NE Conservatory': \"The New England Conservatory of Music\"\n",
    "    }\n",
    "    \n",
    "    if x in misc_remaps.keys():\n",
    "        return misc_remaps[x]\n",
    "    elif any(university in x for university in universities):\n",
    "        return x + \" University\"\n",
    "    elif any(exception in x for exception in exceptions):\n",
    "        return x\n",
    "    else:\n",
    "        return x + \" College\"\n",
    "aicum['institution'] = aicum['institution'].apply(add_college)\n",
    "aicum_insts = set(aicum['institution'])\n",
    "print(len(aicum_insts))"
   ]
  },
  {
   "cell_type": "code",
   "execution_count": 161,
   "metadata": {},
   "outputs": [],
   "source": [
    "orig_colleges = gpd.read_file(\"data/MA_Universities/SHP_dormcap/ma_universities.shp\")\n",
    "# Remove some gratuitous listings, as in the spring 2020 analysis.\n",
    "orig_colleges = orig_colleges[orig_colleges[\"COLLEGE\"] != \"University of Massachusetts Dartmouth Center for Innovation and Entrepreneurship\"]\n",
    "orig_colleges = orig_colleges[~((orig_colleges[\"COLLEGE\"] == \"Northeastern University\") & (orig_colleges[\"CAMPUS\"] != 'Main Campus'))]\n",
    "orig_colleges = orig_colleges[~((orig_colleges[\"COLLEGE\"] == \"Boston College\") & (orig_colleges[\"CAMPUS\"] != 'Main Campus'))]"
   ]
  },
  {
   "cell_type": "code",
   "execution_count": 162,
   "metadata": {},
   "outputs": [],
   "source": [
    "missing = gpd.read_file(\"data/MA_Universities/missing_AICUM/missing_AICUM.csv\")\n",
    "\n",
    "columns = {\n",
    "    \"Institution Name\":\"COLLEGE\",\n",
    "    \"Street address or post office box (HD2019)\":\"ADDRESS\",\n",
    "    \"City location of institution (HD2019)\":\"CITY\",\n",
    "    \"ZIP code (HD2019)\":\"ZIPCODE\",\n",
    "    \"Institution's internet website address (HD2019)\":\"URL\",\n",
    "    \"12-month unduplicated headcount  total: 2018-19 (DRVEF122019)\":\"ENROLL\",\n",
    "    \"Latitude location of institution (HD2019)\":\"LAT\",\n",
    "    \"Longitude location of institution (HD2019)\":\"LON\",\n",
    "}\n",
    "\n",
    "missing = missing.rename(columns=columns)\n",
    "missing[\"geometry\"] = [Point(float(x),float(y)) for x, y in zip(missing[\"LON\"], missing[\"LAT\"])]"
   ]
  },
  {
   "cell_type": "code",
   "execution_count": 163,
   "metadata": {},
   "outputs": [],
   "source": [
    "colleges = orig_colleges.append(missing)"
   ]
  },
  {
   "cell_type": "code",
   "execution_count": 164,
   "metadata": {},
   "outputs": [
    {
     "name": "stdout",
     "output_type": "stream",
     "text": [
      "0 unmatched AICUM institutions\n"
     ]
    }
   ],
   "source": [
    "colleges = colleges.merge(aicum, left_on='COLLEGE', right_on='institution', how='inner')\n",
    "matched_insts = set(colleges['COLLEGE'])\n",
    "print(len(aicum_insts.difference(matched_insts)), \"unmatched AICUM institutions\")"
   ]
  },
  {
   "cell_type": "code",
   "execution_count": 166,
   "metadata": {},
   "outputs": [],
   "source": [
    "filtered_colleges = colleges[\n",
    "  ['COLLEGE', 'CAMPUS', 'ADDRESS', 'CITY', 'ZIPCODE', 'ENROLL',\n",
    "   'URL', 'MCVP', 'submitted_mcvp_app', 'partner_name',\n",
    "   'vaccination_site_support', 'vaccination_site_no_support',\n",
    "   'employees_vaccinated', 'on_campus_or_external', 'geometry']\n",
    "]"
   ]
  },
  {
   "cell_type": "code",
   "execution_count": 167,
   "metadata": {},
   "outputs": [],
   "source": [
    "filtered_colleges = filtered_colleges.to_crs('epsg:4326')"
   ]
  },
  {
   "cell_type": "code",
   "execution_count": 174,
   "metadata": {},
   "outputs": [
    {
     "data": {
      "text/plain": [
       "CAMPUS                                                                 None\n",
       "ADDRESS                                                    415 South Street\n",
       "CITY                                                                Waltham\n",
       "ZIPCODE                                                               02454\n",
       "ENROLL                                                                 5800\n",
       "URL                                                 http://www.brandeis.edu\n",
       "MCVP                                                                     No\n",
       "submitted_mcvp_app                                                       No\n",
       "partner_name                                                            NaN\n",
       "vaccination_site_support                                                 No\n",
       "vaccination_site_no_support                                             Yes\n",
       "employees_vaccinated                                                    Yes\n",
       "on_campus_or_external                                       External Entity\n",
       "geometry                       POINT (-71.26006539934579 42.36576438674317)\n",
       "Name: Brandeis University, dtype: object"
      ]
     },
     "execution_count": 174,
     "metadata": {},
     "output_type": "execute_result"
    }
   ],
   "source": [
    "filtered_colleges.set_index('COLLEGE').loc['Brandeis University']"
   ]
  },
  {
   "cell_type": "code",
   "execution_count": 177,
   "metadata": {},
   "outputs": [
    {
     "ename": "DriverError",
     "evalue": "Failed to create GeoJSON datasource: ../covid-vaccines/geojson/ma_universities_with_aicum.geojson: ../covid-vaccines/geojson/ma_universities_with_aicum.geojson: No such file or directory",
     "output_type": "error",
     "traceback": [
      "\u001b[0;31m---------------------------------------------------------------------------\u001b[0m",
      "\u001b[0;31mCPLE_OpenFailedError\u001b[0m                      Traceback (most recent call last)",
      "\u001b[0;32mfiona/_shim.pyx\u001b[0m in \u001b[0;36mfiona._shim.gdal_create\u001b[0;34m()\u001b[0m\n",
      "\u001b[0;32mfiona/_err.pyx\u001b[0m in \u001b[0;36mfiona._err.exc_wrap_pointer\u001b[0;34m()\u001b[0m\n",
      "\u001b[0;31mCPLE_OpenFailedError\u001b[0m: Failed to create GeoJSON datasource: ../covid-vaccines/geojson/ma_universities_with_aicum.geojson: ../covid-vaccines/geojson/ma_universities_with_aicum.geojson: No such file or directory",
      "\nDuring handling of the above exception, another exception occurred:\n",
      "\u001b[0;31mDriverError\u001b[0m                               Traceback (most recent call last)",
      "\u001b[0;32m<ipython-input-177-ebde0c5ce3a1>\u001b[0m in \u001b[0;36m<module>\u001b[0;34m\u001b[0m\n\u001b[0;32m----> 1\u001b[0;31m \u001b[0mfiltered_colleges\u001b[0m\u001b[0;34m.\u001b[0m\u001b[0mto_file\u001b[0m\u001b[0;34m(\u001b[0m\u001b[0;34m'../covid-vaccines/geojson/ma_universities_with_aicum.geojson'\u001b[0m\u001b[0;34m,\u001b[0m \u001b[0mdriver\u001b[0m\u001b[0;34m=\u001b[0m\u001b[0;34m'GeoJSON'\u001b[0m\u001b[0;34m)\u001b[0m\u001b[0;34m\u001b[0m\u001b[0;34m\u001b[0m\u001b[0m\n\u001b[0m",
      "\u001b[0;32m~/miniconda3/lib/python3.8/site-packages/geopandas/geodataframe.py\u001b[0m in \u001b[0;36mto_file\u001b[0;34m(self, filename, driver, schema, index, **kwargs)\u001b[0m\n\u001b[1;32m    744\u001b[0m         \u001b[0;32mfrom\u001b[0m \u001b[0mgeopandas\u001b[0m\u001b[0;34m.\u001b[0m\u001b[0mio\u001b[0m\u001b[0;34m.\u001b[0m\u001b[0mfile\u001b[0m \u001b[0;32mimport\u001b[0m \u001b[0m_to_file\u001b[0m\u001b[0;34m\u001b[0m\u001b[0;34m\u001b[0m\u001b[0m\n\u001b[1;32m    745\u001b[0m \u001b[0;34m\u001b[0m\u001b[0m\n\u001b[0;32m--> 746\u001b[0;31m         \u001b[0m_to_file\u001b[0m\u001b[0;34m(\u001b[0m\u001b[0mself\u001b[0m\u001b[0;34m,\u001b[0m \u001b[0mfilename\u001b[0m\u001b[0;34m,\u001b[0m \u001b[0mdriver\u001b[0m\u001b[0;34m,\u001b[0m \u001b[0mschema\u001b[0m\u001b[0;34m,\u001b[0m \u001b[0mindex\u001b[0m\u001b[0;34m,\u001b[0m \u001b[0;34m**\u001b[0m\u001b[0mkwargs\u001b[0m\u001b[0;34m)\u001b[0m\u001b[0;34m\u001b[0m\u001b[0;34m\u001b[0m\u001b[0m\n\u001b[0m\u001b[1;32m    747\u001b[0m \u001b[0;34m\u001b[0m\u001b[0m\n\u001b[1;32m    748\u001b[0m     \u001b[0;32mdef\u001b[0m \u001b[0mset_crs\u001b[0m\u001b[0;34m(\u001b[0m\u001b[0mself\u001b[0m\u001b[0;34m,\u001b[0m \u001b[0mcrs\u001b[0m\u001b[0;34m=\u001b[0m\u001b[0;32mNone\u001b[0m\u001b[0;34m,\u001b[0m \u001b[0mepsg\u001b[0m\u001b[0;34m=\u001b[0m\u001b[0;32mNone\u001b[0m\u001b[0;34m,\u001b[0m \u001b[0minplace\u001b[0m\u001b[0;34m=\u001b[0m\u001b[0;32mFalse\u001b[0m\u001b[0;34m,\u001b[0m \u001b[0mallow_override\u001b[0m\u001b[0;34m=\u001b[0m\u001b[0;32mFalse\u001b[0m\u001b[0;34m)\u001b[0m\u001b[0;34m:\u001b[0m\u001b[0;34m\u001b[0m\u001b[0;34m\u001b[0m\u001b[0m\n",
      "\u001b[0;32m~/miniconda3/lib/python3.8/site-packages/geopandas/io/file.py\u001b[0m in \u001b[0;36m_to_file\u001b[0;34m(df, filename, driver, schema, index, mode, crs, **kwargs)\u001b[0m\n\u001b[1;32m    252\u001b[0m         \u001b[0;32melif\u001b[0m \u001b[0mcrs\u001b[0m\u001b[0;34m:\u001b[0m\u001b[0;34m\u001b[0m\u001b[0;34m\u001b[0m\u001b[0m\n\u001b[1;32m    253\u001b[0m             \u001b[0mcrs_wkt\u001b[0m \u001b[0;34m=\u001b[0m \u001b[0mcrs\u001b[0m\u001b[0;34m.\u001b[0m\u001b[0mto_wkt\u001b[0m\u001b[0;34m(\u001b[0m\u001b[0;34m\"WKT1_GDAL\"\u001b[0m\u001b[0;34m)\u001b[0m\u001b[0;34m\u001b[0m\u001b[0;34m\u001b[0m\u001b[0m\n\u001b[0;32m--> 254\u001b[0;31m         with fiona.open(\n\u001b[0m\u001b[1;32m    255\u001b[0m             \u001b[0mfilename\u001b[0m\u001b[0;34m,\u001b[0m \u001b[0mmode\u001b[0m\u001b[0;34m=\u001b[0m\u001b[0mmode\u001b[0m\u001b[0;34m,\u001b[0m \u001b[0mdriver\u001b[0m\u001b[0;34m=\u001b[0m\u001b[0mdriver\u001b[0m\u001b[0;34m,\u001b[0m \u001b[0mcrs_wkt\u001b[0m\u001b[0;34m=\u001b[0m\u001b[0mcrs_wkt\u001b[0m\u001b[0;34m,\u001b[0m \u001b[0mschema\u001b[0m\u001b[0;34m=\u001b[0m\u001b[0mschema\u001b[0m\u001b[0;34m,\u001b[0m \u001b[0;34m**\u001b[0m\u001b[0mkwargs\u001b[0m\u001b[0;34m\u001b[0m\u001b[0;34m\u001b[0m\u001b[0m\n\u001b[1;32m    256\u001b[0m         ) as colxn:\n",
      "\u001b[0;32m~/miniconda3/lib/python3.8/site-packages/fiona/env.py\u001b[0m in \u001b[0;36mwrapper\u001b[0;34m(*args, **kwargs)\u001b[0m\n\u001b[1;32m    398\u001b[0m     \u001b[0;32mdef\u001b[0m \u001b[0mwrapper\u001b[0m\u001b[0;34m(\u001b[0m\u001b[0;34m*\u001b[0m\u001b[0margs\u001b[0m\u001b[0;34m,\u001b[0m \u001b[0;34m**\u001b[0m\u001b[0mkwargs\u001b[0m\u001b[0;34m)\u001b[0m\u001b[0;34m:\u001b[0m\u001b[0;34m\u001b[0m\u001b[0;34m\u001b[0m\u001b[0m\n\u001b[1;32m    399\u001b[0m         \u001b[0;32mif\u001b[0m \u001b[0mlocal\u001b[0m\u001b[0;34m.\u001b[0m\u001b[0m_env\u001b[0m\u001b[0;34m:\u001b[0m\u001b[0;34m\u001b[0m\u001b[0;34m\u001b[0m\u001b[0m\n\u001b[0;32m--> 400\u001b[0;31m             \u001b[0;32mreturn\u001b[0m \u001b[0mf\u001b[0m\u001b[0;34m(\u001b[0m\u001b[0;34m*\u001b[0m\u001b[0margs\u001b[0m\u001b[0;34m,\u001b[0m \u001b[0;34m**\u001b[0m\u001b[0mkwargs\u001b[0m\u001b[0;34m)\u001b[0m\u001b[0;34m\u001b[0m\u001b[0;34m\u001b[0m\u001b[0m\n\u001b[0m\u001b[1;32m    401\u001b[0m         \u001b[0;32melse\u001b[0m\u001b[0;34m:\u001b[0m\u001b[0;34m\u001b[0m\u001b[0;34m\u001b[0m\u001b[0m\n\u001b[1;32m    402\u001b[0m             \u001b[0;32mif\u001b[0m \u001b[0misinstance\u001b[0m\u001b[0;34m(\u001b[0m\u001b[0margs\u001b[0m\u001b[0;34m[\u001b[0m\u001b[0;36m0\u001b[0m\u001b[0;34m]\u001b[0m\u001b[0;34m,\u001b[0m \u001b[0mstr\u001b[0m\u001b[0;34m)\u001b[0m\u001b[0;34m:\u001b[0m\u001b[0;34m\u001b[0m\u001b[0;34m\u001b[0m\u001b[0m\n",
      "\u001b[0;32m~/miniconda3/lib/python3.8/site-packages/fiona/__init__.py\u001b[0m in \u001b[0;36mopen\u001b[0;34m(fp, mode, driver, schema, crs, encoding, layer, vfs, enabled_drivers, crs_wkt, **kwargs)\u001b[0m\n\u001b[1;32m    270\u001b[0m             \u001b[0;32melse\u001b[0m\u001b[0;34m:\u001b[0m\u001b[0;34m\u001b[0m\u001b[0;34m\u001b[0m\u001b[0m\n\u001b[1;32m    271\u001b[0m                 \u001b[0mthis_schema\u001b[0m \u001b[0;34m=\u001b[0m \u001b[0;32mNone\u001b[0m\u001b[0;34m\u001b[0m\u001b[0;34m\u001b[0m\u001b[0m\n\u001b[0;32m--> 272\u001b[0;31m             c = Collection(path, mode, crs=crs, driver=driver, schema=this_schema,\n\u001b[0m\u001b[1;32m    273\u001b[0m                            \u001b[0mencoding\u001b[0m\u001b[0;34m=\u001b[0m\u001b[0mencoding\u001b[0m\u001b[0;34m,\u001b[0m \u001b[0mlayer\u001b[0m\u001b[0;34m=\u001b[0m\u001b[0mlayer\u001b[0m\u001b[0;34m,\u001b[0m \u001b[0menabled_drivers\u001b[0m\u001b[0;34m=\u001b[0m\u001b[0menabled_drivers\u001b[0m\u001b[0;34m,\u001b[0m \u001b[0mcrs_wkt\u001b[0m\u001b[0;34m=\u001b[0m\u001b[0mcrs_wkt\u001b[0m\u001b[0;34m,\u001b[0m\u001b[0;34m\u001b[0m\u001b[0;34m\u001b[0m\u001b[0m\n\u001b[1;32m    274\u001b[0m                            **kwargs)\n",
      "\u001b[0;32m~/miniconda3/lib/python3.8/site-packages/fiona/collection.py\u001b[0m in \u001b[0;36m__init__\u001b[0;34m(self, path, mode, driver, schema, crs, encoding, layer, vsi, archive, enabled_drivers, crs_wkt, ignore_fields, ignore_geometry, **kwargs)\u001b[0m\n\u001b[1;32m    165\u001b[0m             \u001b[0;32melif\u001b[0m \u001b[0mself\u001b[0m\u001b[0;34m.\u001b[0m\u001b[0mmode\u001b[0m \u001b[0;32min\u001b[0m \u001b[0;34m(\u001b[0m\u001b[0;34m'a'\u001b[0m\u001b[0;34m,\u001b[0m \u001b[0;34m'w'\u001b[0m\u001b[0;34m)\u001b[0m\u001b[0;34m:\u001b[0m\u001b[0;34m\u001b[0m\u001b[0;34m\u001b[0m\u001b[0m\n\u001b[1;32m    166\u001b[0m                 \u001b[0mself\u001b[0m\u001b[0;34m.\u001b[0m\u001b[0msession\u001b[0m \u001b[0;34m=\u001b[0m \u001b[0mWritingSession\u001b[0m\u001b[0;34m(\u001b[0m\u001b[0;34m)\u001b[0m\u001b[0;34m\u001b[0m\u001b[0;34m\u001b[0m\u001b[0m\n\u001b[0;32m--> 167\u001b[0;31m                 \u001b[0mself\u001b[0m\u001b[0;34m.\u001b[0m\u001b[0msession\u001b[0m\u001b[0;34m.\u001b[0m\u001b[0mstart\u001b[0m\u001b[0;34m(\u001b[0m\u001b[0mself\u001b[0m\u001b[0;34m,\u001b[0m \u001b[0;34m**\u001b[0m\u001b[0mkwargs\u001b[0m\u001b[0;34m)\u001b[0m\u001b[0;34m\u001b[0m\u001b[0;34m\u001b[0m\u001b[0m\n\u001b[0m\u001b[1;32m    168\u001b[0m         \u001b[0;32mexcept\u001b[0m \u001b[0mIOError\u001b[0m\u001b[0;34m:\u001b[0m\u001b[0;34m\u001b[0m\u001b[0;34m\u001b[0m\u001b[0m\n\u001b[1;32m    169\u001b[0m             \u001b[0mself\u001b[0m\u001b[0;34m.\u001b[0m\u001b[0msession\u001b[0m \u001b[0;34m=\u001b[0m \u001b[0;32mNone\u001b[0m\u001b[0;34m\u001b[0m\u001b[0;34m\u001b[0m\u001b[0m\n",
      "\u001b[0;32mfiona/ogrext.pyx\u001b[0m in \u001b[0;36mfiona.ogrext.WritingSession.start\u001b[0;34m()\u001b[0m\n",
      "\u001b[0;32mfiona/_shim.pyx\u001b[0m in \u001b[0;36mfiona._shim.gdal_create\u001b[0;34m()\u001b[0m\n",
      "\u001b[0;31mDriverError\u001b[0m: Failed to create GeoJSON datasource: ../covid-vaccines/geojson/ma_universities_with_aicum.geojson: ../covid-vaccines/geojson/ma_universities_with_aicum.geojson: No such file or directory"
     ]
    }
   ],
   "source": [
    "filtered_colleges.to_file('../covid-vaccines/geojson/ma_universities_with_aicum.geojson', driver='GeoJSON')"
   ]
  },
  {
   "cell_type": "markdown",
   "metadata": {},
   "source": [
    "# unsure: \n",
    " * Bay Path — University, or Adult Evening? (Parker: University, apparently?)\n",
    " * Anne Maria — doesn't show up in dataset\n",
    " * Holy Cross — Hellenic College/Holy Cross, or College of the Holy Cross?  (Parker: almost certainly the latter)\n",
    " \n",
    " \n",
    "# Missing from SHP_dormcap (which has enrollment...)\n",
    "* Cambridge College\n",
    "* Fisher College\n",
    "* Laboure College (nursing?)\n",
    "* MGH Institute of Health Professions\n",
    "* New England Conservatory of Music\n",
    "* Urban College of Boston\n",
    "* William James College\n",
    "\n",
    "These mainly appear to be specialty schools (in particular, most have graduate-level programs in psychology and nursing). We really only need locations (lat, long) and total enrollment—address information, etc. is just gravy—so we could try to pull these from the other shapefiles/GeoJSON files in `data` or—as a last resort—pull some information from Google Maps and school websites."
   ]
  },
  {
   "cell_type": "code",
   "execution_count": null,
   "metadata": {},
   "outputs": [],
   "source": []
  }
 ],
 "metadata": {
  "kernelspec": {
   "display_name": "Python 3",
   "language": "python",
   "name": "python3"
  },
  "language_info": {
   "codemirror_mode": {
    "name": "ipython",
    "version": 3
   },
   "file_extension": ".py",
   "mimetype": "text/x-python",
   "name": "python",
   "nbconvert_exporter": "python",
   "pygments_lexer": "ipython3",
   "version": "3.8.5"
  }
 },
 "nbformat": 4,
 "nbformat_minor": 4
}
