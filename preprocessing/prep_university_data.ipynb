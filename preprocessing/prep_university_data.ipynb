{
 "cells": [
  {
   "cell_type": "code",
   "execution_count": 1,
   "metadata": {},
   "outputs": [],
   "source": [
    "import geopandas as gpd\n",
    "import pandas as pd"
   ]
  },
  {
   "cell_type": "code",
   "execution_count": 2,
   "metadata": {},
   "outputs": [
    {
     "name": "stdout",
     "output_type": "stream",
     "text": [
      "38\n"
     ]
    }
   ],
   "source": [
    "aicum = pd.read_excel(\"data/AICUM Vaccination survey 1.19.2021.xlsx\")\n",
    "columns = {\n",
    "    \"Institution\":\"institution\",\n",
    "    \"Survey completed by:\":\"point_of_contact\",\n",
    "    \"Enrolled in MCVP\":\"MCVP\",\n",
    "    \"Submitted Application for MCVP\":\"submitted_mcvp_app\",\n",
    "    \"Date of submission\":\"date_of_submission\",\n",
    "    \"Partnering with hospital/healthcare provider\":\"partnering\",\n",
    "    \"Named local hospital or healthcare provider\":\"partner_name\",\n",
    "    \"Interested in serving as vaccination site/providing staffing and operational support\":\"vaccination_site_support\",\n",
    "    \"Interested in serving as a vaccination site without providing staffing and operational support\":\"vaccination_site_no_support\",\n",
    "    \"All eligible employees vaccinated\":\"employees_vaccinated\",\n",
    "    \"on campus or external entity\":\"on_campus_or_external\"\n",
    "}\n",
    "aicum = aicum.rename(columns=columns)\n",
    "misc_remaps = {\n",
    "  'Anne Maria College': 'Anna Maria College',  # typo in AICUM survey\n",
    "  'Holy Cross College': 'College of the Holy Cross',\n",
    "  \n",
    "}\n",
    "\n",
    "def add_college(x):\n",
    "    exceptions = [\"College\", \"University\", \"Institute\", \"Conservatory\"]\n",
    "    universities = [\"Bay Path\", \"Bentley\", \"Brandeis\", \"Northeastern\", \"Suffolk\", \"Tufts\"]\n",
    "    if x == \"MGH Institute\":\n",
    "        return x + \" of Health Professions\"\n",
    "    if x == \"NE Conservatory\":\n",
    "        return \"New England Conservatory of Music\"\n",
    "    elif x == \"Montserrat\":\n",
    "        return x + \" College of Art\"\n",
    "    elif x == \"Olin\":\n",
    "        return \"Franklin W. Olin College of Engineering\"\n",
    "    elif x == \"Urban\":\n",
    "        return x + \" College of Boston\"\n",
    "    elif x == \"WPI\":\n",
    "        return \"Worcester Polytechnic Institute\"\n",
    "    elif x == \"Wentworth\":\n",
    "        return x + \" Institute of Technology\"\n",
    "    elif any(university in x for university in universities):\n",
    "        return x + \" University\"\n",
    "    elif any(exception in x for exception in exceptions):\n",
    "        return x\n",
    "    else:\n",
    "        return x + \" College\"\n",
    "aicum['institution'] = aicum['institution'].apply(add_college)\n",
    "aicum_insts = set(aicum['institution'])\n",
    "print(len(aicum_insts))"
   ]
  },
  {
   "cell_type": "code",
   "execution_count": 32,
   "metadata": {},
   "outputs": [],
   "source": [
    "orig_colleges = gpd.read_file(\"data/MA_Universities/SHP_dormcap/ma_universities.shp\")\n",
    "#colleges = gpd.read_file(\"data/MA_Universities/Original/COLLEGES_PT.shp\")\n",
    "#colleges = gpd.read_file(\"data/MA_Universities/ma_4_year_ipeds.geojson\")\n",
    "#len(colleges)\n",
    "# print(list(colleges['COLLEGE']))"
   ]
  },
  {
   "cell_type": "code",
   "execution_count": 41,
   "metadata": {},
   "outputs": [],
   "source": [
    "# Remove some gratuitous listings, as in the spring 2020 analysis.\n",
    "orig_colleges = orig_colleges[orig_colleges[\"COLLEGE\"] != \"University of Massachusetts Dartmouth Center for Innovation and Entrepreneurship\"]\n",
    "orig_colleges = orig_colleges[~((orig_colleges[\"COLLEGE\"] == \"Northeastern University\") & (orig_colleges[\"CAMPUS\"] != 'Main Campus'))]\n",
    "orig_colleges = orig_colleges[~((orig_colleges[\"COLLEGE\"] == \"Boston College\") & (orig_colleges[\"CAMPUS\"] != 'Main Campus'))]"
   ]
  },
  {
   "cell_type": "code",
   "execution_count": 42,
   "metadata": {},
   "outputs": [
    {
     "name": "stdout",
     "output_type": "stream",
     "text": [
      "29\n"
     ]
    }
   ],
   "source": [
    "colleges = orig_colleges.merge(aicum, left_on='COLLEGE', right_on='institution')\n",
    "matched_insts = set(colleges['COLLEGE'])\n",
    "print(len(matched_insts))"
   ]
  },
  {
   "cell_type": "code",
   "execution_count": 44,
   "metadata": {},
   "outputs": [
    {
     "data": {
      "text/plain": [
       "{'Anne Maria College',\n",
       " 'Cambridge College',\n",
       " 'Fisher College',\n",
       " 'Holy Cross College',\n",
       " 'Laboure College',\n",
       " 'MGH Institute of Health Professions',\n",
       " 'New England Conservatory of Music',\n",
       " 'Urban College of Boston',\n",
       " 'William James College'}"
      ]
     },
     "execution_count": 44,
     "metadata": {},
     "output_type": "execute_result"
    }
   ],
   "source": [
    "aicum_insts.difference(matched_insts)"
   ]
  },
  {
   "cell_type": "code",
   "execution_count": 45,
   "metadata": {},
   "outputs": [],
   "source": [
    "filtered_colleges = colleges[\n",
    "  ['COLLEGE', 'CAMPUS', 'ADDRESS', 'CITY', 'ZIPCODE', 'ENROLL',\n",
    "   'URL', 'MCVP', 'submitted_mcvp_app', 'partner_name',\n",
    "   'vaccination_site_support', 'vaccination_site_no_support',\n",
    "   'employees_vaccinated', 'on_campus_or_external', 'geometry']\n",
    "]"
   ]
  },
  {
   "cell_type": "code",
   "execution_count": 49,
   "metadata": {},
   "outputs": [],
   "source": [
    "filtered_colleges = filtered_colleges.to_crs('epsg:4326')"
   ]
  },
  {
   "cell_type": "code",
   "execution_count": 55,
   "metadata": {},
   "outputs": [
    {
     "data": {
      "text/plain": [
       "CAMPUS                                                          Main Campus\n",
       "ADDRESS                                             140 Commonwealth Avenue\n",
       "CITY                                                          Chestnut Hill\n",
       "ZIPCODE                                                               02467\n",
       "ENROLL                                                                14720\n",
       "URL                                                       http://www.bc.edu\n",
       "MCVP                                                                    Yes\n",
       "submitted_mcvp_app                                                       No\n",
       "partner_name                                                            NaN\n",
       "vaccination_site_support                                                 No\n",
       "vaccination_site_no_support                                              No\n",
       "employees_vaccinated                                                     No\n",
       "on_campus_or_external                                                   NaN\n",
       "geometry                       POINT (-71.16875495618217 42.33501225354594)\n",
       "Name: Boston College, dtype: object"
      ]
     },
     "execution_count": 55,
     "metadata": {},
     "output_type": "execute_result"
    }
   ],
   "source": [
    "filtered_colleges.set_index('COLLEGE').loc['Boston College']"
   ]
  },
  {
   "cell_type": "code",
   "execution_count": 50,
   "metadata": {},
   "outputs": [],
   "source": [
    "filtered_colleges.to_file('../covid-vaccines/geojson/ma_universities_with_aicum.geojson', driver='GeoJSON')"
   ]
  },
  {
   "cell_type": "markdown",
   "metadata": {},
   "source": [
    "# unsure: \n",
    " * Bay Path — University, or Adult Evening? (Parker: University, apparently?)\n",
    " * Anne Maria — doesn't show up in dataset\n",
    " * Holy Cross — Hellenic College/Holy Cross, or College of the Holy Cross?  (Parker: almost certainly the latter)\n",
    " \n",
    " \n",
    "# Missing from SHP_dormcap (which has enrollment...)\n",
    "* Cambridge College\n",
    "* Fisher College\n",
    "* Laboure College (nursing?)\n",
    "* MGH Institute of Health Professions\n",
    "* New England Conservatory of Music\n",
    "* Urban College of Boston\n",
    "* William James College\n",
    "\n",
    "These mainly appear to be specialty schools (in particular, most have graduate-level programs in psychology and nursing). We really only need locations (lat, long) and total enrollment—address information, etc. is just gravy—so we could try to pull these from the other shapefiles/GeoJSON files in `data` or—as a last resort—pull some information from Google Maps and school websites."
   ]
  },
  {
   "cell_type": "code",
   "execution_count": null,
   "metadata": {},
   "outputs": [],
   "source": []
  }
 ],
 "metadata": {
  "kernelspec": {
   "display_name": "Python 3",
   "language": "python",
   "name": "python3"
  },
  "language_info": {
   "codemirror_mode": {
    "name": "ipython",
    "version": 3
   },
   "file_extension": ".py",
   "mimetype": "text/x-python",
   "name": "python",
   "nbconvert_exporter": "python",
   "pygments_lexer": "ipython3",
   "version": "3.7.6"
  }
 },
 "nbformat": 4,
 "nbformat_minor": 4
}
