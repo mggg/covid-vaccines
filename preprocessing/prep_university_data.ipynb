{
 "cells": [
  {
   "cell_type": "code",
   "execution_count": 5,
   "metadata": {},
   "outputs": [],
   "source": [
    "import geopandas as gpd\n",
    "import pandas as pd"
   ]
  },
  {
   "cell_type": "code",
   "execution_count": 55,
   "metadata": {},
   "outputs": [
    {
     "ename": "IndentationError",
     "evalue": "expected an indented block (<ipython-input-55-c64469d41ea4>, line 23)",
     "output_type": "error",
     "traceback": [
      "\u001b[0;36m  File \u001b[0;32m\"<ipython-input-55-c64469d41ea4>\"\u001b[0;36m, line \u001b[0;32m23\u001b[0m\n\u001b[0;31m    elif x == \"Montserrat\":\u001b[0m\n\u001b[0m    ^\u001b[0m\n\u001b[0;31mIndentationError\u001b[0m\u001b[0;31m:\u001b[0m expected an indented block\n"
     ]
    }
   ],
   "source": [
    "aicum = pd.read_excel(\"data/AICUM Vaccination survey 1.19.2021.xlsx\")\n",
    "columns = {\n",
    "    \"Institution\":\"institution\",\n",
    "    \"Survey completed by:\":\"point_of_contact\",\n",
    "    \"Enrolled in MCVP\":\"MCVP\",\n",
    "    \"Submitted Application for MCVP\":\"submitted_mcvp_app\",\n",
    "    \"Date of submission\":\"date_of_submission\",\n",
    "    \"Partnering with hospital/healthcare provider\":\"partnering\",\n",
    "    \"Named local hospital or healthcare provider\":\"partner_name\",\n",
    "    \"Interested in serving as vaccination site/providing staffing and operational support\":\"vaccination_site_support\",\n",
    "    \"Interested in serving as a vaccination site without providing staffing and operational support\":\"vaccination_site_no_support\",\n",
    "    \"All eligible employees vaccinated\":\"employees_vaccinated\",\n",
    "    \"on campus or external entity\":\"on_campus_or_external\"\n",
    "}\n",
    "aicum = aicum.rename(columns=columns)\n",
    "\n",
    "def add_college(x):\n",
    "    exceptions = [\"College\", \"University\", \"Institute\", \"Conservatory\"]\n",
    "    universities = [\"Bay Path\", \"Bentley\", \"Brandeis\", \"Northeastern\", \"Suffolk\", \"Tufts\"]\n",
    "    if x == \"MGH Institute\":\n",
    "        return x + \" of Health Professions\"\n",
    "    if x == \"NE Conservatory\":\n",
    "        return \"New England Conservatory of Music\"\n",
    "    elif x == \"Montserrat\":\n",
    "        return x + \" College of Art\"\n",
    "    elif x == \"Olin\":\n",
    "        return \"Franklin W. Olin College of Engineering\"\n",
    "    elif x == \"Urban\":\n",
    "        return x + \" College of Boston\"\n",
    "    elif x == \"WPI\":\n",
    "        return \"Worcester Polytechnic Institute\"\n",
    "    elif any(university in x for university in universities):\n",
    "        return x + \" University\"\n",
    "    elif any(exception in x for exception in exceptions):\n",
    "        return x\n",
    "    else:\n",
    "        return x + \" College\"\n",
    "aicum['institution'] = aicum['institution'].apply(add_college)\n",
    "aicum_insts = set(aicum['institution'])\n",
    "print(len(aicum_insts))"
   ]
  },
  {
   "cell_type": "code",
   "execution_count": 50,
   "metadata": {},
   "outputs": [
    {
     "data": {
      "text/plain": [
       "{'Anne Maria College',\n",
       " 'Assumption College',\n",
       " 'Bay Path University',\n",
       " 'Becker College',\n",
       " 'Bentley University',\n",
       " 'Boston College',\n",
       " 'Boston University',\n",
       " 'Brandeis University',\n",
       " 'Cambridge College',\n",
       " 'Dean College',\n",
       " 'Emerson College',\n",
       " 'Emmanuel College',\n",
       " 'Endicott College',\n",
       " 'Fisher College',\n",
       " 'Gordon College',\n",
       " 'Holy Cross College',\n",
       " 'Laboure College',\n",
       " 'Lasell College',\n",
       " 'MGH Institute of Health Professions',\n",
       " 'Merrimack College',\n",
       " 'Montserrat College of Art',\n",
       " 'NE Conservatory',\n",
       " 'Northeastern College',\n",
       " 'Olin College',\n",
       " 'Pine Manor College',\n",
       " 'Simmons College',\n",
       " 'Smith College',\n",
       " 'Springfield College',\n",
       " 'Stonehill College',\n",
       " 'Suffolk College',\n",
       " 'Tufts College',\n",
       " 'Urban College',\n",
       " 'WPI College',\n",
       " 'Wellesley College',\n",
       " 'Wentworth College',\n",
       " 'Wheaton College',\n",
       " 'William James College',\n",
       " 'Williams College'}"
      ]
     },
     "execution_count": 50,
     "metadata": {},
     "output_type": "execute_result"
    }
   ],
   "source": [
    "aicum_insts"
   ]
  },
  {
   "cell_type": "code",
   "execution_count": 51,
   "metadata": {},
   "outputs": [
    {
     "name": "stdout",
     "output_type": "stream",
     "text": [
      "['Cape Cod Electrical School', 'Cape Cod Community College', 'Rob Roy Academy', 'Diman Regional Technical Institute Division of Continuing Education', 'Bristol Community College', 'Massachusetts Maritime Academy', 'Upper Cape Cod Regional Vocational Technical School Practical Nursing Program', 'Motoring Technical Training Institute', 'Bristol Community College', 'Massasoit Community College', 'Rob Roy Academy', 'Bristol Community College', 'Spa Tech Institute', 'Wheaton College', 'Bridgewater State University', 'Southeastern Technical Institute', 'Nichols College', 'Stonehill College', 'Bay Path University', 'Ailano School of Cosmetology', 'Massasoit Community College', 'Dean College', 'Baystate Medical Center Midwifery Education Program', 'Bay Path Adult Evening School', 'Westfield State University', 'Branford Hall Career Institute', 'College of Our Lady of the Elms', 'Branford Hall Career Institute', 'DiGrigoli School of Cosmetology', 'Monarch School of Cosmetology', \"Mafy's Nails Academy\", 'Jolie Hair and Beauty Academy', 'Brockton Hospital School of Nursing', 'Tri County Regional Vocational Technical High School Adult Education', 'Springfield College', 'Cambridge College', 'Mansfield Beauty Schools', 'Springfield Technical Community College', 'American International College', 'Western New England University', 'American International College', 'University of Massachusetts Nantucket Field Station', 'National Graduate School of Quality Systems Mgmt', 'University of Massachusetts Dartmouth School for Marine Science and Technology', 'University of Massachusetts Dartmouth', 'Bristol Community College', 'Cape Cod Community College', 'University of Massachusetts School of Law', 'Rob Roy Academy', 'University of Massachusetts Dartmouth Center for Innovation and Entrepreneurship', 'Toni & Guy Hairdressing Academy', 'Universal Technical Institute of Massachusetts Inc', 'Bard College - Holyoke Microcollege', \"Bard College at Simon's Rock\", 'University of Phoenix-Boston', 'College of the Holy Cross', 'Curry College', 'Massachusetts Bay Community College', 'Mansfield Beauty Schools', 'Tufts University', 'Massachusetts School of Barbering', 'Newbury College', 'Boston Career Institute', 'Boston College', 'Harvard University', 'Harvard University', 'Smith Adult Community Education', 'Boston University School of Medicine', 'Massachusetts College of Pharmacy and Health Science', 'Massachusetts College of Art and Design', 'Wentworth Institute of Technology', 'School of the Museum of Fine Arts', 'Boston Graduate School of Psychoanalysis Inc', 'Blessed John Xxiii National Seminary', 'Simmons College', 'Northeastern University Professional Advancement Network', 'Northeastern University', 'New England Conservatory of Music', 'Emmanuel College', 'Ali May Academy', 'Clark University', 'Quincy College', 'JK Nails Academy', 'Boston Baptist College', 'Northeastern University', 'Mount Holyoke College', 'Laboure College', 'Rob Roy Academy', 'New England School of Acupuncture at MCPHS', 'Massachusetts College of Pharmacy and Health Science', 'Worcester State University', 'Bancroft School of Massage Therapy', 'Becker College', 'Eastern Nazarene College', 'Worcester Polytechnic Institute', 'University of Massachusetts Worcester Medical Center', 'Conway School of Landscape Design Urban Campus', 'Toni & Guy Hairdressing Academy', 'Spa Tech Institute', 'Massachusetts Bay Community College', 'Wellesley College', 'Franklin W. Olin College of Engineering', 'Assumption College', 'William James College', 'Empire Beauty School', 'Framingham State University', 'Babson College', 'Jupiter Beauty Academy', 'Massachusetts Bay Community College', 'Quinsigamond Community College', 'University of Massachusetts Boston', 'Hellenic College/Holy Cross', 'Porter And Chester Institute of Worcester', 'Pine Manor College', 'Smith College', 'Andover Newton Theological School', 'Hebrew College', 'Gordon-Conwell Theological Seminary', 'Roxbury Community College', 'Hampshire College', 'Anna Maria College', 'Blackstone Valley Vocational Regional School Post-Secondary Nursing Program', 'Salter College', 'Porter And Chester Institute of Canton', 'Bay State School of Technology', 'Fine Mortuary College', 'Martin Electrical School', 'Blue Hills Regional Technical School Practical Nursing Program', 'Massasoit Community College', 'Porter And Chester Institute of Chicopee', 'Peterson School', 'Holyoke Community College', 'Springfield College School of Professional and Continuing Studies', 'Bentley University', 'University of Massachusetts Amherst', 'Lincoln Technical Institute', 'Tufts University', \"Flavia Leal Beauty Creator's Academy\", 'Elizabeth Grady School of Esthetics and Massage Therapy', 'Northeastern University', 'Lawrence Memorial Hospital/Regis College School of Nursing', 'Boston Career Institute', 'Empire Beauty School', 'Salter School', 'New England Hair Academy', 'National Aviation Academy New England Campus', 'North Shore Community College', 'Mildred Elley-Pittsfield', 'Berkshire Community College', 'Northeastern University', 'Peterson School', 'Gould Construction Institute', 'Simmons College', 'Boston College', 'Wheelock College', 'Lasell College', 'Boston College', \"St. John's Seminary College\", 'Benjamin Franklin Institute of Technology', 'The Boston Conservatory at Berklee', 'Berklee College of Music', 'Boston Architectural College', 'New England School of Photography', 'Boston University', 'Tufts University', 'Regis College', 'American Academy of Personal Training', 'Peterson School', 'New England Law Boston', 'Salter College', 'Bay State College', 'New England College of Optometry', 'Emerson College', 'Urban College of Boston', 'New England College of Business', 'Empire Beauty School', 'Fisher College', 'Northeastern University', 'Suffolk University', 'Massachusetts Institute of Technology', 'Massachusetts General Hospital Dietetic Internship', 'North Bennet Street School', 'Brandeis University', 'Harvard University', 'NV My Hair Academy', 'Assabet After Dark', 'Cambridge College', 'Cambridge College School of Management and Education', 'Hult International Business School', 'Harvard University', 'Amherst College', 'MGH Institute of Health Professions', 'Harvard College', 'Harvard University', 'Bunker Hill Community College', 'Longy School of Music of Bard College', 'Harvard University', 'Lesley University', 'East Boston Beauty Academy', 'Harvard-Smithsonian', 'Shawsheen Valley Regional Vocational Technical School Adult Education', 'Montserrat College of Art', 'Endicott College', 'Montachusett Regional Vocational Technical School Practical Nursing Program', 'North Shore Community College', 'Alexander Academy', 'Fitchburg State University', 'North Shore Community College', 'Gordon College', 'Mount Wachusett Community College', 'Electrology Institute of New England, Inc', 'Greenfield Community College', 'Gordon-Conwell Theological Seminary', 'Lowell Academy Hairstyling Institute', 'Middlesex Community College', 'Greater Lowell Technical School Adult Education', 'University of Massachusetts Lowell', 'Page School of Electrical Technology', 'David Nicholas International', 'Merrimack College', 'Charles H Mccann Technical School Adult Education', 'Massachusetts School of Law', 'Spa Tech Institute', 'VIP Beauty Academy', 'Massachusetts College of Liberal Arts', 'Northern Essex Community College', 'Cambridge College', 'Northern Essex Community College', 'Lawrence Training School', 'Williams College', 'New England Tractor Trailer Training School of Massachusetts', 'Northpoint Bible College', 'Northern Essex Community College', 'Becker College', 'Blessing Channels Nail Academy', 'Woburn Electrical School', 'International Dermal Institute', 'Catherine Hinds Institute of Esthetics', 'Millennium Training Institute', 'Flavia Leal Institute of Aesthetics and Nail Academy', \"Hair's How\", 'Salem State University', 'Conway School of Landscape Design', 'Middlesex Community College', 'Face Forward, Inc']\n"
     ]
    }
   ],
   "source": [
    "colleges = gpd.read_file(\"data/MA_Universities/Original/COLLEGES_PT.shp\")\n",
    "len(colleges)\n",
    "print(list(colleges['COLLEGE']))"
   ]
  },
  {
   "cell_type": "code",
   "execution_count": 52,
   "metadata": {},
   "outputs": [
    {
     "name": "stdout",
     "output_type": "stream",
     "text": [
      "28\n"
     ]
    }
   ],
   "source": [
    "colleges = colleges.merge(aicum, left_on='COLLEGE', right_on='institution')\n",
    "matched_insts = set(colleges['COLLEGE'])\n",
    "print(len(matched_insts))"
   ]
  },
  {
   "cell_type": "code",
   "execution_count": 53,
   "metadata": {},
   "outputs": [
    {
     "data": {
      "text/plain": [
       "{'Assumption College',\n",
       " 'Bay Path University',\n",
       " 'Becker College',\n",
       " 'Bentley University',\n",
       " 'Boston College',\n",
       " 'Boston University',\n",
       " 'Brandeis University',\n",
       " 'Cambridge College',\n",
       " 'Dean College',\n",
       " 'Emerson College',\n",
       " 'Emmanuel College',\n",
       " 'Endicott College',\n",
       " 'Fisher College',\n",
       " 'Gordon College',\n",
       " 'Laboure College',\n",
       " 'Lasell College',\n",
       " 'MGH Institute of Health Professions',\n",
       " 'Merrimack College',\n",
       " 'Montserrat College of Art',\n",
       " 'Pine Manor College',\n",
       " 'Simmons College',\n",
       " 'Smith College',\n",
       " 'Springfield College',\n",
       " 'Stonehill College',\n",
       " 'Wellesley College',\n",
       " 'Wheaton College',\n",
       " 'William James College',\n",
       " 'Williams College'}"
      ]
     },
     "execution_count": 53,
     "metadata": {},
     "output_type": "execute_result"
    }
   ],
   "source": [
    "matched_insts"
   ]
  },
  {
   "cell_type": "code",
   "execution_count": 54,
   "metadata": {},
   "outputs": [
    {
     "data": {
      "text/plain": [
       "{'Anne Maria College',\n",
       " 'Holy Cross College',\n",
       " 'NE Conservatory',\n",
       " 'Northeastern College',\n",
       " 'Olin College',\n",
       " 'Suffolk College',\n",
       " 'Tufts College',\n",
       " 'Urban College',\n",
       " 'WPI College',\n",
       " 'Wentworth College'}"
      ]
     },
     "execution_count": 54,
     "metadata": {},
     "output_type": "execute_result"
    }
   ],
   "source": [
    "aicum_insts.difference(matched_insts)"
   ]
  },
  {
   "cell_type": "markdown",
   "metadata": {},
   "source": [
    "# unsure: \n",
    "Bay Path — University, or Adult Evening?\n",
    "Anne Maria — doesn't show up in dataset\n",
    "Holy Cross — Hellenic College/Holy Cross, or College of the Holy Cross?"
   ]
  },
  {
   "cell_type": "code",
   "execution_count": null,
   "metadata": {},
   "outputs": [],
   "source": []
  }
 ],
 "metadata": {
  "kernelspec": {
   "display_name": "Python 3",
   "language": "python",
   "name": "python3"
  },
  "language_info": {
   "codemirror_mode": {
    "name": "ipython",
    "version": 3
   },
   "file_extension": ".py",
   "mimetype": "text/x-python",
   "name": "python",
   "nbconvert_exporter": "python",
   "pygments_lexer": "ipython3",
   "version": "3.8.5"
  }
 },
 "nbformat": 4,
 "nbformat_minor": 4
}
