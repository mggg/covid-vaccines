{
 "cells": [
  {
   "cell_type": "code",
   "execution_count": 1,
   "metadata": {},
   "outputs": [],
   "source": [
    "import geopandas as gpd\n",
    "import pandas as pd"
   ]
  },
  {
   "cell_type": "code",
   "execution_count": 28,
   "metadata": {},
   "outputs": [
    {
     "name": "stdout",
     "output_type": "stream",
     "text": [
      "{'Merrimack College', 'Brandeis University', 'Bentley University', 'Emmanuel College', 'Northeastern University', 'Wellesley College', 'Stonehill College', 'Worcester Polytechnic Institute', 'Laboure College', 'Cambridge College', 'Boston College', 'Fisher College', 'Williams College', 'Anne Maria College', 'Bay Path University', 'Montserrat College of Art', 'Franklin W. Olin College of Engineering', 'MGH Institute of Health Professions', 'William James College', 'Emerson College', 'Lasell College', 'Wentworth Institute of Technology', 'NE Conservatory', 'Pine Manor College', 'Gordon College', 'Smith College', 'Springfield College', 'Dean College', 'Becker College', 'Boston University', 'Tufts University', 'Suffolk University', 'Assumption College', 'Holy Cross College', 'Simmons College', 'Endicott College', 'Urban College of Boston', 'Wheaton College'}\n"
     ]
    }
   ],
   "source": [
    "aicum = pd.read_excel(\"data/AICUM Vaccination survey 1.19.2021.xlsx\")\n",
    "columns = {\n",
    "    \"Institution\":\"institution\",\n",
    "    \"Survey completed by:\":\"point_of_contact\",\n",
    "    \"Enrolled in MCVP\":\"MCVP\",\n",
    "    \"Submitted Application for MCVP\":\"submitted_mcvp_app\",\n",
    "    \"Date of submission\":\"date_of_submission\",\n",
    "    \"Partnering with hospital/healthcare provider\":\"partnering\",\n",
    "    \"Named local hospital or healthcare provider\":\"partner_name\",\n",
    "    \"Interested in serving as vaccination site/providing staffing and operational support\":\"vaccination_site_support\",\n",
    "    \"Interested in serving as a vaccination site without providing staffing and operational support\":\"vaccination_site_no_support\",\n",
    "    \"All eligible employees vaccinated\":\"employees_vaccinated\",\n",
    "    \"on campus or external entity\":\"on_campus_or_external\"\n",
    "}\n",
    "aicum = aicum.rename(columns=columns)\n",
    "misc_remaps = {\n",
    "    'Anne Maria College': 'Anna Maria College',  # typo in AICUM survey\n",
    "    'Holy Cross College': 'College of the Holy Cross',\n",
    "    'MGH Institute': 'MGH Institute of Health Professions',\n",
    "    'Montserrat': 'Montserrat College of Art',\n",
    "    'Olin': 'Franklin W. Olin College of Engineering',\n",
    "    'Urban': 'Urban College of Boston',\n",
    "    'WPI': 'Worcester Polytechnic Institute',\n",
    "    'Wentworth': 'Wentworth Institute of Technology'\n",
    "}\n",
    "\n",
    "def add_college(x):\n",
    "    exceptions = [\"College\", \"University\", \"Institute\", \"Conservatory\"]\n",
    "    universities = [\"Bay Path\", \"Bentley\", \"Brandeis\", \"Northeastern\", \"Suffolk\", \"Tufts\"]\n",
    "#     if x == \"MGH Institute\":\n",
    "#         return x + \" of Health Professions\"\n",
    "#     if x == \"NE Conservatory\":\n",
    "#         return \"New England Conservatory of Music\"\n",
    "#     elif x == \"Montserrat\":\n",
    "#         return x + \" College of Art\"\n",
    "#     elif x == \"Olin\":\n",
    "#         return \"Franklin W. Olin College of Engineering\"\n",
    "#     elif x == \"Urban\":\n",
    "#         return x + \" College of Boston\"\n",
    "#     elif x == \"WPI\":\n",
    "#         return \"Worcester Polytechnic Institute\"\n",
    "#     elif x == \"Wentworth\":\n",
    "#         return x + \" Institute of Technology\"\n",
    "    if x in misc_remaps.keys():\n",
    "        return misc_remaps[x]\n",
    "    elif any(university in x for university in universities):\n",
    "        return x + \" University\"\n",
    "    elif any(exception in x for exception in exceptions):\n",
    "        return x\n",
    "    else:\n",
    "        return x + \" College\"\n",
    "aicum['institution'] = aicum['institution'].apply(add_college)\n",
    "aicum_insts = set(aicum['institution'])\n",
    "print(aicum_insts)"
   ]
  },
  {
   "cell_type": "code",
   "execution_count": 27,
   "metadata": {},
   "outputs": [
    {
     "name": "stdout",
     "output_type": "stream",
     "text": [
      "['Massachusetts Maritime Academy', 'Wheaton College', 'Bridgewater State University', 'Nichols College', 'Stonehill College', 'Bay Path University', 'Dean College', 'Westfield State University', 'College of Our Lady of the Elms', 'Springfield College', 'American International College', 'Western New England University', 'University of Massachusetts Dartmouth', 'University of Massachusetts Dartmouth Center for Innovation and Entrepreneurship', \"Bard College at Simon's Rock\", 'College of the Holy Cross', 'Curry College', 'Tufts University', 'Tufts University', 'Newbury College', 'Boston College', 'Boston College', 'Boston College', 'Harvard University', 'Harvard College', 'Boston University School of Medicine', 'Boston University', 'Massachusetts College of Pharmacy and Health Science', 'Wentworth Institute of Technology', 'Blessed John Xxiii National Seminary', 'Simmons College', 'Northeastern University', 'Northeastern University', 'Northeastern University', 'Northeastern University', 'Northeastern University', 'Emmanuel College', 'Clark University', 'Mount Holyoke College', 'Worcester State University', 'Becker College', 'Eastern Nazarene College', 'Worcester Polytechnic Institute', 'Wellesley College', 'Franklin W. Olin College of Engineering', 'Assumption College', 'Framingham State University', 'Babson College', 'Hellenic College/Holy Cross', 'Pine Manor College', 'Smith College', 'Hampshire College', 'Anna Maria College', 'Bentley University', 'University of Massachusetts Amherst', 'Lasell College', \"St. John's Seminary College\", 'Benjamin Franklin Institute of Technology', 'Regis College', 'Emerson College', 'Suffolk University', 'Massachusetts Institute of Technology', 'Brandeis University', 'Amherst College', 'Lesley University', 'Montserrat College of Art', 'Endicott College', 'Fitchburg State University', 'Gordon College', 'Gordon-Conwell Theological Seminary', 'University of Massachusetts Lowell', 'Merrimack College', 'Massachusetts College of Liberal Arts', 'Williams College', 'Northpoint Bible College', 'Salem State University']\n"
     ]
    }
   ],
   "source": [
    "orig_colleges = gpd.read_file(\"data/MA_Universities/SHP_dormcap/ma_universities.shp\")\n",
    "#colleges = gpd.read_file(\"data/MA_Universities/Original/COLLEGES_PT.shp\")\n",
    "#colleges = gpd.read_file(\"data/MA_Universities/ma_4_year_ipeds.geojson\")\n",
    "#len(colleges)\n",
    "# print(list(colleges['COLLEGE']))\n",
    "print(list(orig_colleges[\"COLLEGE\"]))"
   ]
  },
  {
   "cell_type": "code",
   "execution_count": 24,
   "metadata": {},
   "outputs": [],
   "source": [
    "# Remove some gratuitous listings, as in the spring 2020 analysis.\n",
    "orig_colleges = orig_colleges[orig_colleges[\"COLLEGE\"] != \"University of Massachusetts Dartmouth Center for Innovation and Entrepreneurship\"]\n",
    "orig_colleges = orig_colleges[~((orig_colleges[\"COLLEGE\"] == \"Northeastern University\") & (orig_colleges[\"CAMPUS\"] != 'Main Campus'))]\n",
    "orig_colleges = orig_colleges[~((orig_colleges[\"COLLEGE\"] == \"Boston College\") & (orig_colleges[\"CAMPUS\"] != 'Main Campus'))]"
   ]
  },
  {
   "cell_type": "code",
   "execution_count": 25,
   "metadata": {},
   "outputs": [
    {
     "name": "stdout",
     "output_type": "stream",
     "text": [
      "29\n"
     ]
    }
   ],
   "source": [
    "colleges = orig_colleges.merge(aicum, left_on='COLLEGE', right_on='institution')\n",
    "matched_insts = set(colleges['COLLEGE'])\n",
    "print(len((matched_insts)))"
   ]
  },
  {
   "cell_type": "code",
   "execution_count": 12,
   "metadata": {},
   "outputs": [
    {
     "data": {
      "text/plain": [
       "{'Anne Maria College',\n",
       " 'Cambridge College',\n",
       " 'Fisher College',\n",
       " 'Holy Cross College',\n",
       " 'Laboure College',\n",
       " 'MGH Institute of Health Professions',\n",
       " 'New England Conservatory of Music',\n",
       " 'Urban College of Boston',\n",
       " 'William James College'}"
      ]
     },
     "execution_count": 12,
     "metadata": {},
     "output_type": "execute_result"
    }
   ],
   "source": [
    "aicum_insts.difference(matched_insts)"
   ]
  },
  {
   "cell_type": "code",
   "execution_count": 13,
   "metadata": {},
   "outputs": [],
   "source": [
    "filtered_colleges = colleges[\n",
    "  ['COLLEGE', 'CAMPUS', 'ADDRESS', 'CITY', 'ZIPCODE', 'ENROLL',\n",
    "   'URL', 'MCVP', 'submitted_mcvp_app', 'partner_name',\n",
    "   'vaccination_site_support', 'vaccination_site_no_support',\n",
    "   'employees_vaccinated', 'on_campus_or_external', 'geometry']\n",
    "]"
   ]
  },
  {
   "cell_type": "code",
   "execution_count": 14,
   "metadata": {},
   "outputs": [],
   "source": [
    "filtered_colleges = filtered_colleges.to_crs('epsg:4326')"
   ]
  },
  {
   "cell_type": "code",
   "execution_count": 15,
   "metadata": {},
   "outputs": [
    {
     "data": {
      "text/plain": [
       "CAMPUS                                                          Main Campus\n",
       "ADDRESS                                             140 Commonwealth Avenue\n",
       "CITY                                                          Chestnut Hill\n",
       "ZIPCODE                                                               02467\n",
       "ENROLL                                                                14720\n",
       "URL                                                       http://www.bc.edu\n",
       "MCVP                                                                    Yes\n",
       "submitted_mcvp_app                                                       No\n",
       "partner_name                                                            NaN\n",
       "vaccination_site_support                                                 No\n",
       "vaccination_site_no_support                                              No\n",
       "employees_vaccinated                                                     No\n",
       "on_campus_or_external                                                   NaN\n",
       "geometry                       POINT (-71.16875495618217 42.33501225354594)\n",
       "Name: Boston College, dtype: object"
      ]
     },
     "execution_count": 15,
     "metadata": {},
     "output_type": "execute_result"
    }
   ],
   "source": [
    "filtered_colleges.set_index('COLLEGE').loc['Boston College']"
   ]
  },
  {
   "cell_type": "code",
   "execution_count": 50,
   "metadata": {},
   "outputs": [],
   "source": [
    "filtered_colleges.to_file('../covid-vaccines/geojson/ma_universities_with_aicum.geojson', driver='GeoJSON')"
   ]
  },
  {
   "cell_type": "markdown",
   "metadata": {},
   "source": [
    "# unsure: \n",
    " * Bay Path — University, or Adult Evening? (Parker: University, apparently?)\n",
    " * Anne Maria — doesn't show up in dataset\n",
    " * Holy Cross — Hellenic College/Holy Cross, or College of the Holy Cross?  (Parker: almost certainly the latter)\n",
    " \n",
    " \n",
    "# Missing from SHP_dormcap (which has enrollment...)\n",
    "* Cambridge College\n",
    "* Fisher College\n",
    "* Laboure College (nursing?)\n",
    "* MGH Institute of Health Professions\n",
    "* New England Conservatory of Music\n",
    "* Urban College of Boston\n",
    "* William James College\n",
    "\n",
    "These mainly appear to be specialty schools (in particular, most have graduate-level programs in psychology and nursing). We really only need locations (lat, long) and total enrollment—address information, etc. is just gravy—so we could try to pull these from the other shapefiles/GeoJSON files in `data` or—as a last resort—pull some information from Google Maps and school websites."
   ]
  },
  {
   "cell_type": "code",
   "execution_count": null,
   "metadata": {},
   "outputs": [],
   "source": []
  }
 ],
 "metadata": {
  "kernelspec": {
   "display_name": "Python 3",
   "language": "python",
   "name": "python3"
  },
  "language_info": {
   "codemirror_mode": {
    "name": "ipython",
    "version": 3
   },
   "file_extension": ".py",
   "mimetype": "text/x-python",
   "name": "python",
   "nbconvert_exporter": "python",
   "pygments_lexer": "ipython3",
   "version": "3.8.5"
  }
 },
 "nbformat": 4,
 "nbformat_minor": 4
}
